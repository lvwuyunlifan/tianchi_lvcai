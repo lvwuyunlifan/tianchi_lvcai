{
 "cells": [
  {
   "cell_type": "code",
   "execution_count": 1,
   "metadata": {},
   "outputs": [],
   "source": [
    "import matplotlib.pyplot as plt\n",
    "import matplotlib.image as mpimg\n",
    "import seaborn as sns\n",
    "import pandas as pd\n",
    "import numpy as np\n",
    "%matplotlib inline"
   ]
  },
  {
   "cell_type": "code",
   "execution_count": 2,
   "metadata": {},
   "outputs": [],
   "source": [
    "label = pd.read_csv('label.csv')\n",
    "labelv = pd.read_csv('labelv.csv')"
   ]
  },
  {
   "cell_type": "code",
   "execution_count": 3,
   "metadata": {},
   "outputs": [
    {
     "name": "stdout",
     "output_type": "stream",
     "text": [
      "                                            img_path  label\n",
      "0  ./AgriculturalDisease_trainingset/images/62fd8...      1\n",
      "1  ./AgriculturalDisease_trainingset/images/0bdec...      1\n",
      "2  ./AgriculturalDisease_trainingset/images/8951e...      1\n",
      "3  ./AgriculturalDisease_trainingset/images/7ed15...      1\n",
      "4  ./AgriculturalDisease_trainingset/images/9b739...      1\n",
      "                                            img_path  label\n",
      "0  ./AgriculturalDisease_validationset/images/432...      1\n",
      "1  ./AgriculturalDisease_validationset/images/33a...      1\n",
      "2  ./AgriculturalDisease_validationset/images/8fd...      1\n",
      "3  ./AgriculturalDisease_validationset/images/e6c...      1\n",
      "4  ./AgriculturalDisease_validationset/images/758...      1\n"
     ]
    }
   ],
   "source": [
    "print(label.head(5))\n",
    "print(labelv.head(5))"
   ]
  },
  {
   "cell_type": "code",
   "execution_count": 29,
   "metadata": {},
   "outputs": [
    {
     "data": {
      "text/plain": [
       "1185"
      ]
     },
     "execution_count": 29,
     "metadata": {},
     "output_type": "execute_result"
    }
   ],
   "source": [
    "l0 = label[label['label'] == 0]\n",
    "l0['label'].count()"
   ]
  },
  {
   "cell_type": "code",
   "execution_count": 44,
   "metadata": {},
   "outputs": [],
   "source": [
    "label= label[['label']].astype('int32')"
   ]
  },
  {
   "cell_type": "code",
   "execution_count": 45,
   "metadata": {},
   "outputs": [
    {
     "data": {
      "text/plain": [
       "label    int32\n",
       "dtype: object"
      ]
     },
     "execution_count": 45,
     "metadata": {},
     "output_type": "execute_result"
    }
   ],
   "source": [
    "label.dtypes"
   ]
  },
  {
   "cell_type": "code",
   "execution_count": 4,
   "metadata": {},
   "outputs": [
    {
     "data": {
      "text/plain": [
       "59    353\n",
       "25    284\n",
       "26    280\n",
       "33    204\n",
       "58    202\n",
       "41    173\n",
       "0     169\n",
       "49    158\n",
       "30    147\n",
       "43    138\n",
       "dtype: int64"
      ]
     },
     "execution_count": 4,
     "metadata": {},
     "output_type": "execute_result"
    },
    {
     "data": {
      "image/png": "[encoded data removed]",
      "text/plain": [
       "<Figure size 1152x576 with 1 Axes>"
      ]
     },
     "metadata": {},
     "output_type": "display_data"
    }
   ],
   "source": [
    "plt.figure(figsize=(16,8))\n",
    "plt.title('validation dataset')\n",
    "# label_pd = pd.Series(labels_images)\n",
    "labelv_image = np.array(labelv[\"label\"]).tolist()\n",
    "labelv_pd = pd.Series(labelv_image)\n",
    "gv = sns.countplot(labelv_image)\n",
    "\n",
    "# 展示10标签\n",
    "labelv_pd.value_counts()[0:10]"
   ]
  },
  {
   "cell_type": "code",
   "execution_count": null,
   "metadata": {},
   "outputs": [],
   "source": []
  },
  {
   "cell_type": "code",
   "execution_count": 5,
   "metadata": {},
   "outputs": [
    {
     "data": {
      "text/plain": [
       "59    2473\n",
       "25    1872\n",
       "26    1838\n",
       "33    1430\n",
       "58    1414\n",
       "41    1208\n",
       "0     1185\n",
       "49    1109\n",
       "30    1025\n",
       "43     966\n",
       "dtype: int64"
      ]
     },
     "execution_count": 5,
     "metadata": {},
     "output_type": "execute_result"
    },
    {
     "data": {
      "image/png": "[encoded data removed]",
      "text/plain": [
       "<Figure size 1152x576 with 1 Axes>"
      ]
     },
     "metadata": {},
     "output_type": "display_data"
    }
   ],
   "source": [
    "plt.figure(figsize=(16,8))\n",
    "plt.title('train dataset')\n",
    "# label_pd = pd.Series(labels_images)\n",
    "label_image = np.array(label[\"label\"]).tolist()\n",
    "label_pd = pd.Series(label_image)\n",
    "g = sns.countplot(label_image)\n",
    "\n",
    "# 展示10标签\n",
    "label_pd.value_counts()[0:10]"
   ]
  },
  {
   "cell_type": "code",
   "execution_count": 47,
   "metadata": {},
   "outputs": [
    {
     "data": {
      "text/plain": [
       "59    353\n",
       "25    284\n",
       "26    280\n",
       "33    204\n",
       "58    202\n",
       "41    173\n",
       "0     169\n",
       "49    158\n",
       "30    147\n",
       "43    138\n",
       "28    122\n",
       "52    117\n",
       "16    116\n",
       "55    115\n",
       "29    110\n",
       "44     99\n",
       "23     90\n",
       "6      85\n",
       "45     83\n",
       "40     83\n",
       "56     77\n",
       "20     76\n",
       "53     74\n",
       "35     73\n",
       "15     71\n",
       "12     69\n",
       "19     66\n",
       "37     64\n",
       "21     64\n",
       "47     63\n",
       "     ... \n",
       "54     60\n",
       "32     54\n",
       "18     54\n",
       "9      54\n",
       "24     52\n",
       "13     51\n",
       "51     48\n",
       "42     46\n",
       "50     46\n",
       "17     42\n",
       "31     40\n",
       "57     39\n",
       "48     38\n",
       "60     37\n",
       "46     36\n",
       "27     36\n",
       "36     36\n",
       "38     35\n",
       "7      35\n",
       "8      33\n",
       "14     30\n",
       "1      30\n",
       "34     29\n",
       "10     27\n",
       "39     27\n",
       "11     24\n",
       "2      22\n",
       "4      20\n",
       "22      9\n",
       "5       6\n",
       "Length: 61, dtype: int64"
      ]
     },
     "execution_count": 47,
     "metadata": {},
     "output_type": "execute_result"
    }
   ],
   "source": [
    "# 展示10标签\n",
    "labelv_pd.value_counts()"
   ]
  },
  {
   "cell_type": "code",
   "execution_count": 6,
   "metadata": {},
   "outputs": [],
   "source": [
    "sum_train = sum(label_image)"
   ]
  },
  {
   "cell_type": "code",
   "execution_count": 7,
   "metadata": {},
   "outputs": [
    {
     "data": {
      "text/plain": [
       "1088286"
      ]
     },
     "execution_count": 7,
     "metadata": {},
     "output_type": "execute_result"
    }
   ],
   "source": [
    "sum_train"
   ]
  },
  {
   "cell_type": "code",
   "execution_count": 19,
   "metadata": {},
   "outputs": [
    {
     "name": "stdout",
     "output_type": "stream",
     "text": [
      "59    2473\n",
      "25    1872\n",
      "26    1838\n",
      "33    1430\n",
      "58    1414\n",
      "41    1208\n",
      "0     1185\n",
      "49    1109\n",
      "30    1025\n",
      "43     966\n",
      "28     857\n",
      "16     815\n",
      "55     807\n",
      "29     770\n",
      "23     630\n",
      "6      598\n",
      "40     583\n",
      "56     542\n",
      "20     511\n",
      "35     510\n",
      "15     499\n",
      "12     483\n",
      "19     462\n",
      "37     446\n",
      "47     442\n",
      "3      427\n",
      "21     427\n",
      "54     421\n",
      "18     381\n",
      "32     377\n",
      "      ... \n",
      "24     367\n",
      "13     355\n",
      "51     336\n",
      "50     325\n",
      "42     319\n",
      "52     306\n",
      "17     294\n",
      "31     287\n",
      "57     271\n",
      "48     264\n",
      "60     261\n",
      "27     251\n",
      "36     251\n",
      "46     251\n",
      "38     242\n",
      "44     235\n",
      "1      211\n",
      "14     208\n",
      "34     203\n",
      "39     192\n",
      "10     191\n",
      "45     182\n",
      "53     176\n",
      "11     167\n",
      "7      162\n",
      "8      153\n",
      "2      152\n",
      "4      142\n",
      "22      61\n",
      "5       40\n",
      "Length: 61, dtype: int64\n"
     ]
    }
   ],
   "source": [
    "a = label_pd.value_counts()\n",
    "print(a)"
   ]
  },
  {
   "cell_type": "code",
   "execution_count": 20,
   "metadata": {},
   "outputs": [
    {
     "data": {
      "text/plain": [
       "[2473,\n",
       " 1872,\n",
       " 1838,\n",
       " 1430,\n",
       " 1414,\n",
       " 1208,\n",
       " 1185,\n",
       " 1109,\n",
       " 1025,\n",
       " 966,\n",
       " 857,\n",
       " 815,\n",
       " 807,\n",
       " 770,\n",
       " 630,\n",
       " 598,\n",
       " 583,\n",
       " 542,\n",
       " 511,\n",
       " 510,\n",
       " 499,\n",
       " 483,\n",
       " 462,\n",
       " 446,\n",
       " 442,\n",
       " 427,\n",
       " 427,\n",
       " 421,\n",
       " 381,\n",
       " 377,\n",
       " 376,\n",
       " 367,\n",
       " 355,\n",
       " 336,\n",
       " 325,\n",
       " 319,\n",
       " 306,\n",
       " 294,\n",
       " 287,\n",
       " 271,\n",
       " 264,\n",
       " 261,\n",
       " 251,\n",
       " 251,\n",
       " 251,\n",
       " 242,\n",
       " 235,\n",
       " 211,\n",
       " 208,\n",
       " 203,\n",
       " 192,\n",
       " 191,\n",
       " 182,\n",
       " 176,\n",
       " 167,\n",
       " 162,\n",
       " 153,\n",
       " 152,\n",
       " 142,\n",
       " 61,\n",
       " 40]"
      ]
     },
     "execution_count": 20,
     "metadata": {},
     "output_type": "execute_result"
    }
   ],
   "source": [
    "b = np.array(a).tolist()\n",
    "b"
   ]
  },
  {
   "cell_type": "code",
   "execution_count": 11,
   "metadata": {},
   "outputs": [
    {
     "data": {
      "text/plain": [
       "59    0.075537\n",
       "25    0.057180\n",
       "26    0.056141\n",
       "33    0.043679\n",
       "58    0.043190\n",
       "41    0.036898\n",
       "0     0.036195\n",
       "49    0.033874\n",
       "30    0.031308\n",
       "43    0.029506\n",
       "28    0.026177\n",
       "16    0.024894\n",
       "55    0.024650\n",
       "29    0.023519\n",
       "23    0.019243\n",
       "6     0.018266\n",
       "40    0.017808\n",
       "56    0.016555\n",
       "20    0.015608\n",
       "35    0.015578\n",
       "15    0.015242\n",
       "12    0.014753\n",
       "19    0.014112\n",
       "37    0.013623\n",
       "47    0.013501\n",
       "3     0.013043\n",
       "21    0.013043\n",
       "54    0.012859\n",
       "18    0.011637\n",
       "32    0.011515\n",
       "        ...   \n",
       "24    0.011210\n",
       "13    0.010843\n",
       "51    0.010263\n",
       "50    0.009927\n",
       "42    0.009744\n",
       "52    0.009347\n",
       "17    0.008980\n",
       "31    0.008766\n",
       "57    0.008278\n",
       "48    0.008064\n",
       "60    0.007972\n",
       "27    0.007667\n",
       "36    0.007667\n",
       "46    0.007667\n",
       "38    0.007392\n",
       "44    0.007178\n",
       "1     0.006445\n",
       "14    0.006353\n",
       "34    0.006201\n",
       "39    0.005865\n",
       "10    0.005834\n",
       "45    0.005559\n",
       "53    0.005376\n",
       "11    0.005101\n",
       "7     0.004948\n",
       "8     0.004673\n",
       "2     0.004643\n",
       "4     0.004337\n",
       "22    0.001863\n",
       "5     0.001222\n",
       "Length: 61, dtype: float64"
      ]
     },
     "execution_count": 11,
     "metadata": {},
     "output_type": "execute_result"
    }
   ],
   "source": [
    "label_pd.value_counts()/32739"
   ]
  },
  {
   "cell_type": "code",
   "execution_count": 10,
   "metadata": {},
   "outputs": [
    {
     "data": {
      "text/plain": [
       "32739"
      ]
     },
     "execution_count": 10,
     "metadata": {},
     "output_type": "execute_result"
    }
   ],
   "source": [
    "len(label_image)"
   ]
  },
  {
   "cell_type": "code",
   "execution_count": 12,
   "metadata": {},
   "outputs": [
    {
     "data": {
      "text/plain": [
       "536.7049180327868"
      ]
     },
     "execution_count": 12,
     "metadata": {},
     "output_type": "execute_result"
    }
   ],
   "source": [
    "32739/61"
   ]
  },
  {
   "cell_type": "code",
   "execution_count": 13,
   "metadata": {},
   "outputs": [
    {
     "data": {
      "text/plain": [
       "0.016393292403555394"
      ]
     },
     "execution_count": 13,
     "metadata": {},
     "output_type": "execute_result"
    }
   ],
   "source": [
    "536.7/32739"
   ]
  },
  {
   "cell_type": "code",
   "execution_count": null,
   "metadata": {},
   "outputs": [],
   "source": []
  }
 ],
 "metadata": {
  "kernelspec": {
   "display_name": "Python 3",
   "language": "python",
   "name": "python3"
  },
  "language_info": {
   "codemirror_mode": {
    "name": "ipython",
    "version": 3
   },
   "file_extension": ".py",
   "mimetype": "text/x-python",
   "name": "python",
   "nbconvert_exporter": "python",
   "pygments_lexer": "ipython3",
   "version": "3.6.6"
  }
 },
 "nbformat": 4,
 "nbformat_minor": 2
}
